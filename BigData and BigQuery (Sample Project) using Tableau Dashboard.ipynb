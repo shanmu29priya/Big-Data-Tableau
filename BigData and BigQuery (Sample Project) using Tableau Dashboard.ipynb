{
 "cells": [
  {
   "cell_type": "markdown",
   "metadata": {},
   "source": [
    "<center><h1>Big Data - Big Query - Tableau Dashboard</h1></center>"
   ]
  },
  {
   "cell_type": "markdown",
   "metadata": {},
   "source": [
    "<h2>Project using Tableau</h2>"
   ]
  },
  {
   "cell_type": "markdown",
   "metadata": {},
   "source": [
    "<p><b>Technological stack used :</b> \n",
    "    <ol>\n",
    "        <li>Google Cloud Services</li>\n",
    "        <li>BiqQuery BigData</li>\n",
    "        <li>Tableau for visualization</li> </ol>\n",
    "        </p>"
   ]
  },
  {
   "cell_type": "markdown",
   "metadata": {},
   "source": [
    "<p> <h3> Probelm Statement </h3>\n",
    "    <h4>\n",
    "        The Pandemic Covid19 Infected analysis around GlobalNumbers and as an Business/Data Analyst we are looking at the overall percentage, DeathRate, Vaccination Status amoung Population around different countires. </h4>\n",
    "       <h4>\n",
    "        A Database (Covid19) has been created in the Google Cloud and an Real time <mark>Dataset</mark> from IBM public repository has been connected to the Google Cloud for Analysis </h4>\n",
    "        <h4> \n",
    "    The Data Gathering and calculations are done using <mark><strong> Google Big Query </strong></mark> and for the data-visualization we used the <mark><strong> Tableau </strong></mark> </h4>\n",
    "</p>"
   ]
  },
  {
   "cell_type": "markdown",
   "metadata": {},
   "source": [
    "# Schema for Attrition database\n",
    "<p><strong>Coviddeaths Table Schema1</strong> </p>"
   ]
  },
  {
   "cell_type": "markdown",
   "metadata": {},
   "source": [
    "<img src=\"https://github.com/shanmu29priya/Assets/blob/main/Table%20Schema1.png?raw=true\" alt=\"Bigdata tool\" width=\"500\" height=\"600\">"
   ]
  },
  {
   "cell_type": "markdown",
   "metadata": {},
   "source": [
    "<p><strong>Covidvaccination Table Schema2</strong> </p>"
   ]
  },
  {
   "cell_type": "markdown",
   "metadata": {},
   "source": [
    "<img src=\"https://github.com/shanmu29priya/Assets/blob/main/Table%20Schema2.png?raw=true\" alt=\"Bigdata tool\" width=\"500\" height=\"600\">"
   ]
  },
  {
   "cell_type": "markdown",
   "metadata": {},
   "source": [
    "<p><strong>Sample SQL Queries</strong> </p>"
   ]
  },
  {
   "cell_type": "markdown",
   "metadata": {},
   "source": [
    "<p>TotalPercent India affected</p>"
   ]
  },
  {
   "cell_type": "markdown",
   "metadata": {},
   "source": [
    "<img src=\"https://github.com/shanmu29priya/Assets/blob/main/Total%20Percent%20in%20INDIA.png?raw=true\" alt=\"Bigdata tool\" width=\"500\" height=\"600\">"
   ]
  },
  {
   "cell_type": "markdown",
   "metadata": {},
   "source": [
    "<p>Total cases vs Population</p>"
   ]
  },
  {
   "cell_type": "markdown",
   "metadata": {},
   "source": [
    "<img src=\"https://github.com/shanmu29priya/Assets/blob/main/TotalCase%20VS%20Population.png?raw=true\" alt=\"Bigdata tool\" width=\"700\" height=\"900\">"
   ]
  },
  {
   "cell_type": "markdown",
   "metadata": {},
   "source": [
    "<p>Percent Population Infected</p>"
   ]
  },
  {
   "cell_type": "markdown",
   "metadata": {},
   "source": [
    "<img src=\"https://github.com/shanmu29priya/Assets/blob/main/Percent%20Infected1.png?raw=true\" alt=\"Bigdata tool\" width=\"500\" height=\"600\">"
   ]
  },
  {
   "cell_type": "markdown",
   "metadata": {},
   "source": [
    "<p>Total Death Rate</p>"
   ]
  },
  {
   "cell_type": "markdown",
   "metadata": {},
   "source": [
    "<img src=\"https://github.com/shanmu29priya/Assets/blob/main/Total%20DeathRate.png?raw=true\" alt=\"Bigdata tool\" width=\"500\" height=\"600\">"
   ]
  },
  {
   "cell_type": "markdown",
   "metadata": {},
   "source": [
    "<img src=\"https://github.com/shanmu29priya/Assets/blob/main/Total%20DeathRate2.png?raw=true\" alt=\"Bigdata tool\" width=\"500\" height=\"600\">"
   ]
  },
  {
   "cell_type": "markdown",
   "metadata": {},
   "source": [
    "<p>Death Percent</p>"
   ]
  },
  {
   "cell_type": "markdown",
   "metadata": {},
   "source": [
    "<img src=\"https://github.com/shanmu29priya/Assets/blob/main/DeathPercent.png?raw=true\" alt=\"Bigdata tool\" width=\"500\" height=\"600\">"
   ]
  },
  {
   "cell_type": "markdown",
   "metadata": {},
   "source": [
    "<p>Joining Tables</p>"
   ]
  },
  {
   "cell_type": "markdown",
   "metadata": {},
   "source": [
    "<img src=\"https://github.com/shanmu29priya/Assets/blob/main/Joining.png?raw=true\" alt=\"Bigdata tool\" width=\"700\" height=\"900\">"
   ]
  },
  {
   "cell_type": "markdown",
   "metadata": {},
   "source": [
    "<img src=\"https://github.com/shanmu29priya/Assets/blob/main/Joining2.png?raw=true\" alt=\"Bigdata tool\" width=\"700\" height=\"900\">"
   ]
  },
  {
   "cell_type": "markdown",
   "metadata": {},
   "source": [
    "<p>Partition</p>"
   ]
  },
  {
   "cell_type": "markdown",
   "metadata": {},
   "source": [
    "<img src=\"https://github.com/shanmu29priya/Assets/blob/main/Partition.png?raw=true\" alt=\"Bigdata tool\" width=\"700\" height=\"900\">"
   ]
  },
  {
   "cell_type": "markdown",
   "metadata": {},
   "source": [
    "<p>Using CTE</p>"
   ]
  },
  {
   "cell_type": "markdown",
   "metadata": {},
   "source": [
    "<img src=\"https://github.com/shanmu29priya/Assets/blob/main/Using%20CTE.png?raw=true\" alt=\"Bigdata tool\" width=\"700\" height=\"900\">"
   ]
  },
  {
   "cell_type": "markdown",
   "metadata": {},
   "source": [
    "<p>View</p>"
   ]
  },
  {
   "cell_type": "markdown",
   "metadata": {},
   "source": [
    "<img src=\"https://github.com/shanmu29priya/Assets/blob/main/View.png?raw=true\" alt=\"Bigdata tool\" width=\"500\" height=\"600\">"
   ]
  },
  {
   "cell_type": "markdown",
   "metadata": {},
   "source": [
    "<p><strong>Above Sample Query Tables</strong> </p>"
   ]
  },
  {
   "cell_type": "markdown",
   "metadata": {},
   "source": [
    "<p>Table1</p>"
   ]
  },
  {
   "cell_type": "markdown",
   "metadata": {},
   "source": [
    "<img src=\"https://github.com/shanmu29priya/Assets/blob/main/Table%201.png?raw=true\" alt=\"Bigdata tool\" width=\"500\" height=\"600\">"
   ]
  },
  {
   "cell_type": "markdown",
   "metadata": {},
   "source": [
    "<p>Table2</p>"
   ]
  },
  {
   "cell_type": "markdown",
   "metadata": {},
   "source": [
    "<img src=\"https://github.com/shanmu29priya/Assets/blob/main/Table%202.png?raw=true\" alt=\"Bigdata tool\" width=\"700\" height=\"900\">"
   ]
  },
  {
   "cell_type": "markdown",
   "metadata": {},
   "source": [
    "<p>Table3</p>"
   ]
  },
  {
   "cell_type": "markdown",
   "metadata": {},
   "source": [
    "<img src=\"https://github.com/shanmu29priya/Assets/blob/main/Table%203.png?raw=true\" alt=\"Bigdata tool\" width=\"700\" height=\"900\">"
   ]
  },
  {
   "cell_type": "markdown",
   "metadata": {},
   "source": [
    "<p>Table4</p>"
   ]
  },
  {
   "cell_type": "markdown",
   "metadata": {},
   "source": [
    "<img src=\"https://github.com/shanmu29priya/Assets/blob/main/Table%204.png?raw=true\" alt=\"Bigdata tool\" width=\"700\" height=\"900\">"
   ]
  },
  {
   "cell_type": "markdown",
   "metadata": {},
   "source": [
    "<h3>Demo Dashboard</h3>"
   ]
  },
  {
   "cell_type": "markdown",
   "metadata": {},
   "source": [
    "<img src=\"https://github.com/shanmu29priya/Assets/blob/main/DashBoard.png?raw=true\" alt=\"Bigdata tool\" width=\"1000\" height=\"900\">"
   ]
  }
 ],
 "metadata": {
  "kernelspec": {
   "display_name": "Python 3 (ipykernel)",
   "language": "python",
   "name": "python3"
  },
  "language_info": {
   "codemirror_mode": {
    "name": "ipython",
    "version": 3
   },
   "file_extension": ".py",
   "mimetype": "text/x-python",
   "name": "python",
   "nbconvert_exporter": "python",
   "pygments_lexer": "ipython3",
   "version": "3.9.7"
  }
 },
 "nbformat": 4,
 "nbformat_minor": 4
}
